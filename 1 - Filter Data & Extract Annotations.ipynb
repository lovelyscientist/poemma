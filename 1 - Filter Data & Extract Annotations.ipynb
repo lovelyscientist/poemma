{
 "cells": [
  {
   "cell_type": "code",
   "execution_count": 1,
   "id": "acfb0115",
   "metadata": {},
   "outputs": [],
   "source": [
    "import os\n",
    "import json\n",
    "import random\n",
    "import time\n",
    "import numpy as np\n",
    "import pandas as pd\n",
    "import requests\n",
    "from typing import Any\n",
    "from bs4 import BeautifulSoup\n",
    "from tqdm.notebook import tqdm, trange\n",
    "import functools \n",
    "import re\n",
    "\n",
    "pd.set_option('display.max_rows', 2000)"
   ]
  },
  {
   "cell_type": "code",
   "execution_count": 1,
   "id": "c11f4f51",
   "metadata": {},
   "outputs": [],
   "source": [
    "# https://www.kaggle.com/datasets/carlosgdcj/genius-song-lyrics-with-language-information?resource=download"
   ]
  },
  {
   "cell_type": "code",
   "execution_count": 2,
   "id": "0ee20867",
   "metadata": {},
   "outputs": [],
   "source": [
    "df = pd.read_csv('./data/poets.csv') "
   ]
  },
  {
   "cell_type": "code",
   "execution_count": 24,
   "id": "da346159",
   "metadata": {},
   "outputs": [],
   "source": [
    "def get_english_language_poets(file_name: str = \"./../data/List of English-language poets - Wikipedia.html\"):   \n",
    "    \"\"\"\n",
    "    Function for extraction of english poets names from Wikipedia\n",
    "    Args:\n",
    "    file_name - HTML file with poets page\n",
    "    Returns:\n",
    "    names_list - list of names\n",
    "    \"\"\"\n",
    "    with open(file_name) as fp:\n",
    "        soup = BeautifulSoup(fp, \"html.parser\")\n",
    "        \n",
    "    all_containers = soup.find_all(\"div\", class_=\"div-col\")\n",
    "    name_elements = []\n",
    "    for c in all_containers:\n",
    "        name_elements += c.findAll('li')\n",
    "    names_list = map(lambda n: n.get_text(), name_elements)\n",
    "    names_list = set(map(lambda n: re.sub(\"[\\(\\[].*?[\\)\\]]\", \"\", n)[:-1], names_list))\n",
    "    \n",
    "    return names_list         "
   ]
  },
  {
   "cell_type": "code",
   "execution_count": null,
   "id": "b0f65df5",
   "metadata": {},
   "outputs": [],
   "source": [
    "poets = get_english_language_poets()\n",
    "df = df[df['artist'].isin(poets)]"
   ]
  },
  {
   "cell_type": "code",
   "execution_count": 3,
   "id": "ea1d0428",
   "metadata": {},
   "outputs": [],
   "source": [
    "df['lyrics_paragraphs_count'] = df['lyrics'].apply(lambda l: len(l.split('\\n\\n')))\n",
    "df['len_words'] = df['lyrics'].apply(lambda l: len(l.split(' ')))"
   ]
  },
  {
   "cell_type": "code",
   "execution_count": 4,
   "id": "9d1aa08d",
   "metadata": {},
   "outputs": [],
   "source": [
    "artists_to_filter = [\n",
    "    'Kendrick Lamar',\n",
    "    'Bob Dylan',\n",
    "    'Christopher Nolan',\n",
    "    'Henry Fielding',\n",
    "    'Nick Cave',\n",
    "    'Charlotte Lennox',\n",
    "    'Ryan Adams'\n",
    "]\n",
    "\n",
    "df = df[(~df['artist'].isin(artists_to_filter))\n",
    "        & (~df['lyrics'].str.contains(\"Verse|Hook|Intro\"))\n",
    "        & (df['language'] == \"en\")\n",
    "        & (~df['title'].str.contains(\"Act |ACT |Chapter |Chap. |CHAPTER |Ch. |CHAP.\"))\n",
    "        & (df['len_words'] <= 650)\n",
    "       ]"
   ]
  },
  {
   "cell_type": "code",
   "execution_count": 5,
   "id": "25b29c15",
   "metadata": {},
   "outputs": [],
   "source": [
    "ids = sorted(list(map(lambda i: int(i), df['id'].astype(int).values)))"
   ]
  },
  {
   "cell_type": "code",
   "execution_count": 18,
   "id": "d38f149f",
   "metadata": {},
   "outputs": [
    {
     "data": {
      "text/plain": [
       "19203"
      ]
     },
     "execution_count": 18,
     "metadata": {},
     "output_type": "execute_result"
    }
   ],
   "source": [
    "len(ids)"
   ]
  },
  {
   "cell_type": "code",
   "execution_count": 15,
   "id": "1a83ef4c",
   "metadata": {},
   "outputs": [
    {
     "data": {
      "text/html": [
       "<div>\n",
       "<style scoped>\n",
       "    .dataframe tbody tr th:only-of-type {\n",
       "        vertical-align: middle;\n",
       "    }\n",
       "\n",
       "    .dataframe tbody tr th {\n",
       "        vertical-align: top;\n",
       "    }\n",
       "\n",
       "    .dataframe thead th {\n",
       "        text-align: right;\n",
       "    }\n",
       "</style>\n",
       "<table border=\"1\" class=\"dataframe\">\n",
       "  <thead>\n",
       "    <tr style=\"text-align: right;\">\n",
       "      <th></th>\n",
       "      <th>Unnamed: 0</th>\n",
       "      <th>title</th>\n",
       "      <th>tag</th>\n",
       "      <th>artist</th>\n",
       "      <th>year</th>\n",
       "      <th>views</th>\n",
       "      <th>features</th>\n",
       "      <th>lyrics</th>\n",
       "      <th>id</th>\n",
       "      <th>language_cld3</th>\n",
       "      <th>language_ft</th>\n",
       "      <th>language</th>\n",
       "      <th>lyrics_paragraphs_count</th>\n",
       "      <th>len_words</th>\n",
       "    </tr>\n",
       "  </thead>\n",
       "  <tbody>\n",
       "    <tr>\n",
       "      <th>3765</th>\n",
       "      <td>113937</td>\n",
       "      <td>A Secret told</td>\n",
       "      <td>misc</td>\n",
       "      <td>Emily Dickinson</td>\n",
       "      <td>2013</td>\n",
       "      <td>660</td>\n",
       "      <td>{}</td>\n",
       "      <td>381\\n\\nA Secret told\\nCeases to be a Secret — ...</td>\n",
       "      <td>123696</td>\n",
       "      <td>en</td>\n",
       "      <td>en</td>\n",
       "      <td>en</td>\n",
       "      <td>3</td>\n",
       "      <td>31</td>\n",
       "    </tr>\n",
       "  </tbody>\n",
       "</table>\n",
       "</div>"
      ],
      "text/plain": [
       "      Unnamed: 0          title   tag           artist  year  views features  \\\n",
       "3765      113937  A Secret told  misc  Emily Dickinson  2013    660       {}   \n",
       "\n",
       "                                                 lyrics      id language_cld3  \\\n",
       "3765  381\\n\\nA Secret told\\nCeases to be a Secret — ...  123696            en   \n",
       "\n",
       "     language_ft language  lyrics_paragraphs_count  len_words  \n",
       "3765          en       en                        3         31  "
      ]
     },
     "execution_count": 15,
     "metadata": {},
     "output_type": "execute_result"
    }
   ],
   "source": [
    "df[df['id'] == 123696]"
   ]
  },
  {
   "cell_type": "code",
   "execution_count": 20,
   "id": "627917e3",
   "metadata": {},
   "outputs": [
    {
     "data": {
      "text/plain": [
       "7836984"
      ]
     },
     "execution_count": 20,
     "metadata": {},
     "output_type": "execute_result"
    }
   ],
   "source": [
    "ids[19200]"
   ]
  },
  {
   "cell_type": "markdown",
   "id": "c8388a34",
   "metadata": {},
   "source": [
    "### Get Annotataions from Genius"
   ]
  },
  {
   "cell_type": "code",
   "execution_count": 8,
   "id": "9e41825e",
   "metadata": {},
   "outputs": [],
   "source": [
    "access_token # access token "
   ]
  },
  {
   "cell_type": "code",
   "execution_count": null,
   "id": "77f4a543",
   "metadata": {},
   "outputs": [],
   "source": [
    "for i in range(len(ids)-7780):\n",
    "    counter = i + 7780\n",
    "    song_id = ids[counter]\n",
    "    r = requests.get(f'https://api.genius.com/referents?song_id={song_id}&access_token={access_token}')\n",
    "    if r.status_code == 200:\n",
    "        with open(f'./data/referents/{song_id}.json', 'w') as f:\n",
    "            json.dump(r.json(), f)\n",
    "        if counter%20 == 0:\n",
    "            time.sleep(1)\n",
    "            print(f'processed {counter} poems')"
   ]
  },
  {
   "cell_type": "code",
   "execution_count": 6,
   "id": "33be2c20",
   "metadata": {},
   "outputs": [],
   "source": [
    "def traverse_annotation_children(el: Any, annotations: list):\n",
    "    if type(el) == dict:\n",
    "        return traverse_annotation_children(el['children'], annotations)\n",
    "    for c in el:\n",
    "        if (type(c) == list and len(c) == 1) or type(c) == str:\n",
    "            annotations.append(c)\n",
    "        else:\n",
    "            if 'children' in c:\n",
    "                traverse_annotation_children(c['children'], annotations)"
   ]
  },
  {
   "cell_type": "code",
   "execution_count": 17,
   "id": "d3568f68",
   "metadata": {},
   "outputs": [],
   "source": [
    "def get_structured_annotation(referents_object: list):\n",
    "    \"\"\"\n",
    "    Flattens the annotations data structure into the list of annotations\n",
    "    \"\"\"\n",
    "    outputs = []\n",
    "    for ref in referents_object:\n",
    "        output = {\n",
    "            'fragment': ref['fragment'],\n",
    "            'classification': ref['classification'],\n",
    "            'annotations': []\n",
    "        }\n",
    "        annotations = ref['annotations']\n",
    "        for a in annotations:\n",
    "            annotation_object = {\n",
    "                'verified': a['verified']\n",
    "            }\n",
    "            children = a['body']['dom']['children']\n",
    "            annotated_children = []\n",
    "            traverse_annotation_children(children, annotated_children)\n",
    "            annotated_children = list(map(lambda t: t if len(t) > 0 else '\\n', annotated_children))\n",
    "            annotated_children = list(filter(lambda t: not 'http' in t, annotated_children))\n",
    "            if len(annotated_children):\n",
    "                if len(annotated_children[-1]) == 0:\n",
    "                    annotated_children = annotated_children[:len(annotated_children)-2]\n",
    "                annotated_children = ' '.join(annotated_children)\n",
    "                annotation_object['text'] = annotated_children\n",
    "                output['annotations'].append(annotation_object)\n",
    "        outputs.append(output)\n",
    "    return outputs"
   ]
  },
  {
   "cell_type": "code",
   "execution_count": 18,
   "id": "e60a38de",
   "metadata": {},
   "outputs": [],
   "source": [
    "def merge_lyrics_with_annotation_by_paragraph(annotation_object: dict, lyrics: str):\n",
    "    \"\"\"\n",
    "    Function that adds context to each referent with annotion.\n",
    "    Creates context based on paragraph, not the lines.\n",
    "    1. Splits into paragraphs '\\n\\n'\n",
    "    2. Finds the paragraph of the referent.\n",
    "    3. Does the same logic as \"merge_lyrics_with_annotation\" but only within the paragraph.\n",
    "    \"\"\"\n",
    "    LINES_BEFORE = 8\n",
    "    LINES_AFTER = 8\n",
    "    \n",
    "    paragraphs = list(filter(lambda l: len(l) > 0, lyrics.replace(\"’\", \"'\").split('\\n\\n')))\n",
    "    avg_lines_in_paragraph = np.mean([len(p.split('\\n')) for p in paragraphs])\n",
    "    paragraphs_lines = dict(zip(paragraphs, [p.replace(\"’\", \"'\").split('\\n') for p in paragraphs]))\n",
    "    #poem_lines = list(filter(lambda l: len(l) > 0, lyrics.replace(\"’\", \"'\").split('\\n')))\n",
    "    for fragment in annotation_object:\n",
    "        referent = fragment['fragment'].replace(\"’\", \"'\")\n",
    "        if '\\n' in referent:\n",
    "            if referent[-1] == '\\n':\n",
    "                referent = referent[:-1]\n",
    "            referent_list = referent.split('\\n')\n",
    "            referent_start, referent_end = referent_list[0], referent_list[-1]\n",
    "        else:\n",
    "            referent_start, referent_end = referent, referent\n",
    "        \n",
    "        paragraph_start = list(filter(lambda p: referent_start in p, paragraphs))[0]\n",
    "        paragraph_end = list(filter(lambda p: referent_end in p, paragraphs))[0]\n",
    "        \n",
    "        index_start = paragraphs_lines[paragraph_start].index(referent_start)\n",
    "        index_end = paragraphs_lines[paragraph_end].index(referent_end)\n",
    "                \n",
    "        context_before = paragraphs_lines[paragraph_start][max(index_start-LINES_BEFORE, 0):index_start]\n",
    "        context_after = paragraphs_lines[paragraph_end][index_end+1:min(index_end+LINES_AFTER, len(paragraphs_lines[paragraph_end]))]\n",
    "        print(context_before)\n",
    "        print(referent)\n",
    "        print(context_after)\n",
    "        print('\\n\\n')"
   ]
  },
  {
   "cell_type": "code",
   "execution_count": 19,
   "id": "7211a86f",
   "metadata": {},
   "outputs": [],
   "source": [
    "def merge_lyrics_with_annotation(annotation_object: dict, lyrics: str):\n",
    "    \"\"\"\n",
    "    Function that adds context to each referent with annotion.\n",
    "    \"\"\"\n",
    "    LINES_BEFORE = 12\n",
    "    LINES_AFTER = 4\n",
    "    escape_chars_filter = ''.join([chr(i) for i in range(1, 32)]).replace('\\n','') + '\\xa0'\n",
    "\n",
    "    \n",
    "    poem_lines = list(filter(lambda l: len(l) > 0, lyrics.replace(\"’\", \"'\").split('\\n')))\n",
    "    poem_lines = list(map(lambda l: l.translate(str.maketrans('', '', escape_chars_filter)), poem_lines))\n",
    "    results = []\n",
    "    \n",
    "    for fragment in annotation_object:\n",
    "        referent = fragment['fragment'].replace(\"’\", \"'\").translate(str.maketrans('', '', escape_chars_filter)) \n",
    "        if '\\n' in referent:\n",
    "            if referent[-1] == '\\n':\n",
    "                referent = referent[:-1]\n",
    "            referent_list = referent.split('\\n')\n",
    "            referent_start, referent_end = referent_list[0], referent_list[-1]\n",
    "        else:\n",
    "            referent_start, referent_end = referent, referent\n",
    "            \n",
    "        index_start, index_end = -1, -1\n",
    "        \n",
    "#         if referent_start not in poem_lines \\\n",
    "#             and referent_end not in poem_lines:\n",
    "#             #and referent_start == referent_end:\n",
    "#             print('*')\n",
    "#             target_poem_lines = list(filter(lambda p: referent_start.lower() in p.lower(), poem_lines))\n",
    "#             if len(target_poem_lines):\n",
    "#                 index_start = poem_lines.index(target_poem_lines[0])\n",
    "#                 index_end = poem_lines.index(target_poem_lines[0])\n",
    "\n",
    "        if referent_start in poem_lines and referent_end in poem_lines:\n",
    "            index_start = poem_lines.index(referent_start)\n",
    "            index_end = poem_lines.index(referent_end)\n",
    "            \n",
    "        if index_start > -1 and index_end > -1:\n",
    "            context_before = poem_lines[max(index_start-LINES_BEFORE, 0):index_start]\n",
    "            context_after = poem_lines[index_end+1:min(index_end+LINES_AFTER, len(poem_lines))]\n",
    "            results.append({\n",
    "                \"content_before\": context_before,\n",
    "                \"referent\": referent,\n",
    "                \"context_after\": context_after,\n",
    "                \"annotation\": fragment['annotations'][0]['text']\n",
    "            })\n",
    "            \n",
    "    return results"
   ]
  },
  {
   "cell_type": "code",
   "execution_count": 23,
   "id": "1677fad7",
   "metadata": {
    "scrolled": false
   },
   "outputs": [],
   "source": [
    "def json_to_annotation_dicts(folder_path: str = './data/referents', n: int = -1):\n",
    "    \"\"\"\n",
    "    Opens json files with response from Genius and structures them into the dataset with annotations\n",
    "    \"\"\"\n",
    "    files = os.listdir(folder_path)\n",
    "    if n != -1:\n",
    "        files = files[:n]\n",
    "    for file_name in files:\n",
    "        with open(f\"{folder_path}/{file_name}\", \"r\") as f:\n",
    "            referents = json.load(f)['response']['referents']\n",
    "            if len(referents):\n",
    "                referents = list(filter(lambda r: r['classification'] == 'accepted', get_structured_annotation(referents)))\n",
    "            if len(referents):\n",
    "                print(merge_lyrics_with_annotation(referents, df[df['id'] == int(file_name.replace('.json', ''))]['lyrics'].values[0]))"
   ]
  },
  {
   "cell_type": "code",
   "execution_count": null,
   "id": "f0613175",
   "metadata": {},
   "outputs": [],
   "source": [
    "json_to_annotation_dicts(n=10)"
   ]
  },
  {
   "cell_type": "code",
   "execution_count": null,
   "id": "d7b82976",
   "metadata": {},
   "outputs": [],
   "source": [
    "merge_lyrics_with_annotation(get_structured_annotation(referents), df[df['id'] == 1875]['lyrics'].values[0])"
   ]
  }
 ],
 "metadata": {
  "kernelspec": {
   "display_name": "custom_llm",
   "language": "python",
   "name": "custom_llm"
  },
  "language_info": {
   "codemirror_mode": {
    "name": "ipython",
    "version": 3
   },
   "file_extension": ".py",
   "mimetype": "text/x-python",
   "name": "python",
   "nbconvert_exporter": "python",
   "pygments_lexer": "ipython3",
   "version": "3.10.14"
  }
 },
 "nbformat": 4,
 "nbformat_minor": 5
}
