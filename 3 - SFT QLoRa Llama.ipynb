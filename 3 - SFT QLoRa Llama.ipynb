{
 "cells": [
  {
   "cell_type": "code",
   "execution_count": 1,
   "metadata": {
    "id": "9OQGtRNMY4vL"
   },
   "outputs": [],
   "source": [
    "import os\n",
    "import random\n",
    "import numpy as np\n",
    "import copy\n",
    "import pandas as pd\n",
    "\n",
    "os.environ[\"HF_TOKEN\"] = 'your key'"
   ]
  },
  {
   "cell_type": "code",
   "execution_count": 4,
   "metadata": {
    "id": "7MRalwMDKxK7"
   },
   "outputs": [
    {
     "name": "stdout",
     "output_type": "stream",
     "text": [
      "Note: you may need to restart the kernel to use updated packages.\n"
     ]
    }
   ],
   "source": [
    "%pip install -q -U transformers datasets accelerate trl peft bitsandbytes flash-attn"
   ]
  },
  {
   "cell_type": "markdown",
   "metadata": {},
   "source": [
    "### Construct instruction prompt from the input"
   ]
  },
  {
   "cell_type": "code",
   "execution_count": 2,
   "metadata": {
    "id": "cT_fpf_G5syv"
   },
   "outputs": [],
   "source": [
    "def create_prompt(inputs: dict) -> str:\n",
    "    \"\"\"\n",
    "    Function that creates prompt for poetry explanation.\n",
    "    \"\"\"\n",
    "    return \"\"\"\n",
    "    You are given the poem \"{title}\" by {poet}.\n",
    "    <poem>\n",
    "    {content_before}\n",
    "    {referent}\n",
    "    {context_after}\n",
    "    </poem>\n",
    "    Explain the meaning of the following lines: \"{referent}\"\n",
    "    \"\"\".format(\n",
    "        title=inputs['poem_title'],\n",
    "        poet=inputs['poet'],\n",
    "        content_before=inputs['content_before'],\n",
    "        context_after=inputs['context_after'],\n",
    "        referent=inputs['referent']\n",
    "    )"
   ]
  },
  {
   "cell_type": "code",
   "execution_count": 3,
   "metadata": {
    "id": "Vokhndy_LKR2"
   },
   "outputs": [],
   "source": [
    "example = {\n",
    "    'content_before': \"The battle rent a cobweb diamond-strung\\nAnd cut a flower beside a ground bird's nest\\nBefore it stained a single human breast.\\nThe stricken flower bent double and so hung.\\nAnd still the bird revisited her young.\\nA butterfly its fall had dispossessed\\nA moment sought in air his flower of rest,\\nThen lightly stooped to it and fluttering clung.\\nOn the bare upland pasture there had spread\\nO'ernight 'twixt mullein stalks a wheel of thread\\nAnd straining cables wet with silver dew.\",\n",
    "    'referent': 'A sudden passing bullet shook it dry.',\n",
    "    'context_after': 'The indwelling spider ran to greet the fly,\\nBut finding nothing, sullenly withdrew.',\n",
    "    'annotation': 'The serenity is, as the reader no doubt anticipates, broken by the shot described in this snappy line. The dryness may represent the loss of a source of life that invigorates the natural — and human — worlds.',\n",
    "    'poet': 'Robert Frost',\n",
    "    'poem_title': 'Range-finding'\n",
    "}"
   ]
  },
  {
   "cell_type": "code",
   "execution_count": 4,
   "metadata": {},
   "outputs": [
    {
     "data": {
      "text/plain": [
       "'\\n    You are given the poem \"Range-finding\" by Robert Frost.\\n    <poem>\\n    The battle rent a cobweb diamond-strung\\nAnd cut a flower beside a ground bird\\'s nest\\nBefore it stained a single human breast.\\nThe stricken flower bent double and so hung.\\nAnd still the bird revisited her young.\\nA butterfly its fall had dispossessed\\nA moment sought in air his flower of rest,\\nThen lightly stooped to it and fluttering clung.\\nOn the bare upland pasture there had spread\\nO\\'ernight \\'twixt mullein stalks a wheel of thread\\nAnd straining cables wet with silver dew.\\n    A sudden passing bullet shook it dry.\\n    The indwelling spider ran to greet the fly,\\nBut finding nothing, sullenly withdrew.\\n    </poem>\\n    Explain the meaning of the following lines: \"A sudden passing bullet shook it dry.\"\\n    '"
      ]
     },
     "execution_count": 4,
     "metadata": {},
     "output_type": "execute_result"
    }
   ],
   "source": [
    "create_prompt(example)"
   ]
  },
  {
   "cell_type": "markdown",
   "metadata": {},
   "source": [
    "### Load train and validation datasets"
   ]
  },
  {
   "cell_type": "code",
   "execution_count": 6,
   "metadata": {
    "id": "cgi2RZ_HLY85"
   },
   "outputs": [
    {
     "name": "stderr",
     "output_type": "stream",
     "text": [
      "C:\\Users\\vlad-dev\\miniconda3\\envs\\llm_sft\\Lib\\site-packages\\tqdm\\auto.py:21: TqdmWarning: IProgress not found. Please update jupyter and ipywidgets. See https://ipywidgets.readthedocs.io/en/stable/user_install.html\n",
      "  from .autonotebook import tqdm as notebook_tqdm\n"
     ]
    }
   ],
   "source": [
    "from datasets import load_dataset\n",
    "dataset = load_dataset(\"prettyvampire/genius_poems_annotations\")"
   ]
  },
  {
   "cell_type": "code",
   "execution_count": 7,
   "metadata": {
    "colab": {
     "base_uri": "https://localhost:8080/"
    },
    "id": "jNjiV33ELY2_",
    "outputId": "48b6ad65-7f5a-404c-ad70-5d7e8856d2df"
   },
   "outputs": [
    {
     "data": {
      "text/plain": [
       "(2576, 366)"
      ]
     },
     "execution_count": 7,
     "metadata": {},
     "output_type": "execute_result"
    }
   ],
   "source": [
    "len(dataset['train']), len(dataset['validation'])"
   ]
  },
  {
   "cell_type": "markdown",
   "metadata": {},
   "source": [
    "### Load pretrained model in 4 bit"
   ]
  },
  {
   "cell_type": "code",
   "execution_count": 8,
   "metadata": {},
   "outputs": [
    {
     "data": {
      "text/plain": [
       "tensor(1., device='cuda:0', dtype=torch.bfloat16)"
      ]
     },
     "execution_count": 8,
     "metadata": {},
     "output_type": "execute_result"
    }
   ],
   "source": [
    "import torch\n",
    "torch.tensor(1).cuda().bfloat16() # to check bfloat16 availability"
   ]
  },
  {
   "cell_type": "code",
   "execution_count": 8,
   "metadata": {
    "colab": {
     "base_uri": "https://localhost:8080/",
     "height": 49,
     "referenced_widgets": [
      "e57fd09eafcf40dc955209a8de242d47",
      "208942e965574f739048523cddb07ce2",
      "4f02fe009e1f4dc499f88ac95d0e301d",
      "713e782a635a47d9a31f0d46af91e3c8",
      "e9e015fad0344d8abf09ca3378698d19",
      "b5f9199c997a473fa5bd3315dc9e72d2",
      "86c39440ce5c456a886a812231fca6c2",
      "c7979a54392041339e0210795f7bc932",
      "5945f7aca7884edf8be668a528073088",
      "17a77e909b2345de82c7b7a48c51e16f",
      "fa6c3bac407b46999d403defaec33997"
     ]
    },
    "id": "bczxD7L75s1i",
    "outputId": "6cfbea2d-c0ec-4a08-cef5-d422b336b58b"
   },
   "outputs": [
    {
     "name": "stderr",
     "output_type": "stream",
     "text": [
      "Loading checkpoint shards: 100%|█████████████████████████████████████████████████████████| 4/4 [00:05<00:00,  1.38s/it]\n"
     ]
    }
   ],
   "source": [
    "import os\n",
    "import torch\n",
    "from transformers import AutoTokenizer, AutoModelForCausalLM, BitsAndBytesConfig\n",
    "\n",
    "model_id = 'meta-llama/Meta-Llama-3.1-8B-Instruct'\n",
    "tokenizer = AutoTokenizer.from_pretrained(model_id, token=os.environ['HF_TOKEN'], add_eos_token=True)\n",
    "nf4_config = BitsAndBytesConfig(\n",
    "   load_in_4bit=True,\n",
    "   bnb_4bit_quant_type=\"nf4\",\n",
    "   bnb_4bit_use_double_quant=True,\n",
    "   bnb_4bit_compute_dtype=torch.bfloat16 # torch.float16 if GPU doesn't support bfloat16\n",
    ")\n",
    "model = AutoModelForCausalLM.from_pretrained(model_id,\n",
    "                                             quantization_config=nf4_config,\n",
    "                                             device_map='auto',\n",
    "                                             token=os.environ['HF_TOKEN'],\n",
    "                                             attn_implementation=\"flash_attention_2\",\n",
    "                                             use_cache=False)"
   ]
  },
  {
   "cell_type": "code",
   "execution_count": 10,
   "metadata": {
    "colab": {
     "base_uri": "https://localhost:8080/"
    },
    "id": "kZ4Rwq9gZo0N",
    "outputId": "1c0367c9-6309-40e5-b852-ce41ffa0d304"
   },
   "outputs": [
    {
     "data": {
      "text/plain": [
       "{'content_before': Value(dtype='string', id=None),\n",
       " 'referent': Value(dtype='string', id=None),\n",
       " 'context_after': Value(dtype='string', id=None),\n",
       " 'annotation': Value(dtype='string', id=None),\n",
       " 'poet': Value(dtype='string', id=None),\n",
       " 'poem_title': Value(dtype='string', id=None)}"
      ]
     },
     "execution_count": 10,
     "metadata": {},
     "output_type": "execute_result"
    }
   ],
   "source": [
    "dataset[\"train\"].features"
   ]
  },
  {
   "cell_type": "markdown",
   "metadata": {},
   "source": [
    "### Construct chat template between user and assistant"
   ]
  },
  {
   "cell_type": "code",
   "execution_count": null,
   "metadata": {
    "id": "bdGlKkN_dA1n"
   },
   "outputs": [],
   "source": [
    "def apply_chat_template(example, tokenizer):\n",
    "    text = create_prompt(example)\n",
    "    messages = [\n",
    "        {\"role\": \"system\", \"content\": \"You are an expert in poetry.\"},\n",
    "        {\"role\": \"user\", \"content\": text},\n",
    "        {\"role\": \"assistant\", \"content\": example['annotation']}\n",
    "    ]\n",
    "\n",
    "    example[\"text\"] = tokenizer.apply_chat_template(messages, tokenize=False)\n",
    "\n",
    "    return example\n",
    "\n",
    "column_names = list(dataset[\"train\"].features)\n",
    "dataset = dataset.map(apply_chat_template,\n",
    "                      fn_kwargs={\"tokenizer\": tokenizer},\n",
    "                      remove_columns=column_names,\n",
    "                      desc=\"Applying chat template\"\n",
    "                     )\n"
   ]
  },
  {
   "cell_type": "markdown",
   "metadata": {},
   "source": [
    "### Determine max length of your input"
   ]
  },
  {
   "cell_type": "code",
   "execution_count": 10,
   "metadata": {
    "id": "oRaCk23o5K21"
   },
   "outputs": [],
   "source": [
    "MAX_SEQUENCE_LENGTH = 512"
   ]
  },
  {
   "cell_type": "code",
   "execution_count": null,
   "metadata": {
    "id": "2IcuyNplzqYu"
   },
   "outputs": [],
   "source": [
    "train_samples_lengths = [len(tokenizer(text=dataset['train'][index]['text'],is_split_into_words=False)['input_ids']) for index in range(len(dataset[\"train\"]))]\n",
    "test_samples_lengths = [len(tokenizer(text=dataset['test'][index]['text'],is_split_into_words=False)['input_ids']) for index in range(len(dataset[\"test\"]))]"
   ]
  },
  {
   "cell_type": "code",
   "execution_count": null,
   "metadata": {
    "colab": {
     "base_uri": "https://localhost:8080/",
     "height": 448
    },
    "id": "bbqQ2ZhC3mFz",
    "outputId": "2e1f5314-e4ab-4390-d5b0-255ebcdac7d4"
   },
   "outputs": [
    {
     "data": {
      "text/plain": [
       "<Axes: >"
      ]
     },
     "execution_count": 18,
     "metadata": {},
     "output_type": "execute_result"
    },
    {
     "data": {
      "image/png": "[encoded data removed]",
      "text/plain": [
       "<Figure size 640x480 with 1 Axes>"
      ]
     },
     "metadata": {},
     "output_type": "display_data"
    }
   ],
   "source": [
    "import pandas as pd\n",
    "pd.Series(train_samples_lengths).hist(bins=50, color='lightgreen')"
   ]
  },
  {
   "cell_type": "code",
   "execution_count": null,
   "metadata": {
    "colab": {
     "base_uri": "https://localhost:8080/",
     "height": 448
    },
    "id": "1NW1G4yj33uw",
    "outputId": "a8ed6af1-1254-4fd1-cf47-7aa6268e75f5"
   },
   "outputs": [
    {
     "data": {
      "text/plain": [
       "<Axes: >"
      ]
     },
     "execution_count": 19,
     "metadata": {},
     "output_type": "execute_result"
    },
    {
     "data": {
      "image/png": "[encoded data removed]",
      "text/plain": [
       "<Figure size 640x480 with 1 Axes>"
      ]
     },
     "metadata": {},
     "output_type": "display_data"
    }
   ],
   "source": [
    "pd.Series(test_samples_lengths).hist(bins=50, color='lightpink')"
   ]
  },
  {
   "cell_type": "markdown",
   "metadata": {},
   "source": [
    "#### Filter out records that are longer than 512 tokens"
   ]
  },
  {
   "cell_type": "code",
   "execution_count": 13,
   "metadata": {
    "id": "jz7u0DFA4f6n"
   },
   "outputs": [],
   "source": [
    "dataset['train'] = dataset['train'].filter(lambda x: len(tokenizer(text=x['text'], is_split_into_words=False)['input_ids']) < MAX_SEQUENCE_LENGTH)\n",
    "dataset['validation'] = dataset['validation'].filter(lambda x: len(tokenizer(text=x['text'], is_split_into_words=False)['input_ids']) < MAX_SEQUENCE_LENGTH)"
   ]
  },
  {
   "cell_type": "code",
   "execution_count": 14,
   "metadata": {
    "colab": {
     "base_uri": "https://localhost:8080/"
    },
    "id": "_I8RgPvJ5fsp",
    "outputId": "5697cd95-9d64-4c38-8c03-82d0faffef27"
   },
   "outputs": [
    {
     "data": {
      "text/plain": [
       "(2525, 356)"
      ]
     },
     "execution_count": 14,
     "metadata": {},
     "output_type": "execute_result"
    }
   ],
   "source": [
    "len(dataset['train']), len(dataset['validation'])"
   ]
  },
  {
   "cell_type": "markdown",
   "metadata": {},
   "source": [
    "### Define PEFT and SFT configs"
   ]
  },
  {
   "cell_type": "code",
   "execution_count": 15,
   "metadata": {
    "id": "D8OpfJVQZo2X"
   },
   "outputs": [],
   "source": [
    "from peft import LoraConfig\n",
    "\n",
    "lora_config = LoraConfig(\n",
    "    r=8,\n",
    "    lora_alpha=16,\n",
    "    lora_dropout=0.1,\n",
    "    bias=\"none\",\n",
    "    target_modules=\"all-linear\", #[\"q_proj\", \"o_proj\", \"k_proj\", \"v_proj\", \"gate_proj\", \"up_proj\", \"down_proj\"],\n",
    "    task_type=\"CAUSAL_LM\"\n",
    ")"
   ]
  },
  {
   "cell_type": "code",
   "execution_count": 17,
   "metadata": {
    "colab": {
     "base_uri": "https://localhost:8080/",
     "height": 703
    },
    "id": "_3iuDseBZo4p",
    "outputId": "9125e1fc-4a93-497c-f47a-e72300cbeade"
   },
   "outputs": [],
   "source": [
    "import transformers\n",
    "from trl import SFTTrainer, SFTConfig\n",
    "\n",
    "\n",
    "torch.cuda.empty_cache()\n",
    "\n",
    "sft_config = SFTConfig(\n",
    "    max_seq_length=512,\n",
    "    output_dir=\"outputs\",\n",
    "    report_to=\"none\", # to prevent wandb API key error\n",
    "    per_device_train_batch_size=1, # to fit on GPU\n",
    "    per_device_eval_batch_size=1, # to fit on GPU\n",
    "    gradient_accumulation_steps=4, # better stability for optimizer ~ batch size = 4 but low memory\n",
    "    gradient_checkpointing=True, # for gradient accumulation\n",
    "    bf16=True, # bf16 is more stable than fp16, available in Ampere GPUs and later\n",
    "    num_train_epochs=1, # one epoch is enough\n",
    "    logging_steps=1, \n",
    "    optim=\"paged_adamw_8bit\", # paged for CPU memory in case GPU is not enough\n",
    "    eval_strategy=\"steps\",\n",
    "    eval_steps=50 # to build training graph\n",
    ")\n",
    "\n",
    "trainer = SFTTrainer(\n",
    "    model=model,\n",
    "    train_dataset=dataset[\"train\"],\n",
    "    eval_dataset=dataset[\"validation\"],\n",
    "    args=sft_config,\n",
    "    peft_config=lora_config,\n",
    "    formatting_func=None\n",
    ")"
   ]
  },
  {
   "cell_type": "markdown",
   "metadata": {},
   "source": [
    "### Train"
   ]
  },
  {
   "cell_type": "code",
   "execution_count": 18,
   "metadata": {},
   "outputs": [
    {
     "name": "stderr",
     "output_type": "stream",
     "text": [
      "C:\\Users\\vlad-dev\\miniconda3\\envs\\llm_sft\\Lib\\site-packages\\torch\\_dynamo\\eval_frame.py:600: UserWarning: torch.utils.checkpoint: the use_reentrant parameter should be passed explicitly. In version 2.4 we will raise an exception if use_reentrant is not passed. use_reentrant=False is recommended, but if you need to preserve the current default behavior, you can pass use_reentrant=True. Refer to docs for more details on the differences between the two variants.\n",
      "  return fn(*args, **kwargs)\n",
      "The input hidden states seems to be silently casted in float32, this might be related to the fact you have upcasted embedding or layer norm layers in float32. We will cast back the input in torch.bfloat16.\n",
      "C:\\Users\\vlad-dev\\miniconda3\\envs\\llm_sft\\Lib\\site-packages\\torch\\utils\\checkpoint.py:295: FutureWarning: `torch.cpu.amp.autocast(args...)` is deprecated. Please use `torch.amp.autocast('cpu', args...)` instead.\n",
      "  with torch.enable_grad(), device_autocast_ctx, torch.cpu.amp.autocast(**ctx.cpu_autocast_kwargs):  # type: ignore[attr-defined]\n"
     ]
    },
    {
     "data": {
      "text/html": [
       "\n",
       "    <div>\n",
       "      \n",
       "      <progress value='631' max='631' style='width:300px; height:20px; vertical-align: middle;'></progress>\n",
       "      [631/631 59:58, Epoch 0/1]\n",
       "    </div>\n",
       "    <table border=\"1\" class=\"dataframe\">\n",
       "  <thead>\n",
       " <tr style=\"text-align: left;\">\n",
       "      <th>Step</th>\n",
       "      <th>Training Loss</th>\n",
       "      <th>Validation Loss</th>\n",
       "    </tr>\n",
       "  </thead>\n",
       "  <tbody>\n",
       "    <tr>\n",
       "      <td>50</td>\n",
       "      <td>1.832800</td>\n",
       "      <td>1.944836</td>\n",
       "    </tr>\n",
       "    <tr>\n",
       "      <td>100</td>\n",
       "      <td>1.897800</td>\n",
       "      <td>1.826170</td>\n",
       "    </tr>\n",
       "    <tr>\n",
       "      <td>150</td>\n",
       "      <td>1.751900</td>\n",
       "      <td>1.780192</td>\n",
       "    </tr>\n",
       "    <tr>\n",
       "      <td>200</td>\n",
       "      <td>1.860900</td>\n",
       "      <td>1.741657</td>\n",
       "    </tr>\n",
       "    <tr>\n",
       "      <td>250</td>\n",
       "      <td>2.079300</td>\n",
       "      <td>1.714025</td>\n",
       "    </tr>\n",
       "    <tr>\n",
       "      <td>300</td>\n",
       "      <td>1.903500</td>\n",
       "      <td>1.692754</td>\n",
       "    </tr>\n",
       "    <tr>\n",
       "      <td>350</td>\n",
       "      <td>1.720100</td>\n",
       "      <td>1.681152</td>\n",
       "    </tr>\n",
       "    <tr>\n",
       "      <td>400</td>\n",
       "      <td>1.369700</td>\n",
       "      <td>1.675502</td>\n",
       "    </tr>\n",
       "    <tr>\n",
       "      <td>450</td>\n",
       "      <td>1.974000</td>\n",
       "      <td>1.671325</td>\n",
       "    </tr>\n",
       "    <tr>\n",
       "      <td>500</td>\n",
       "      <td>1.822900</td>\n",
       "      <td>1.668295</td>\n",
       "    </tr>\n",
       "    <tr>\n",
       "      <td>550</td>\n",
       "      <td>1.076600</td>\n",
       "      <td>1.666146</td>\n",
       "    </tr>\n",
       "    <tr>\n",
       "      <td>600</td>\n",
       "      <td>1.109300</td>\n",
       "      <td>1.664798</td>\n",
       "    </tr>\n",
       "  </tbody>\n",
       "</table><p>"
      ],
      "text/plain": [
       "<IPython.core.display.HTML object>"
      ]
     },
     "metadata": {},
     "output_type": "display_data"
    },
    {
     "name": "stderr",
     "output_type": "stream",
     "text": [
      "C:\\Users\\vlad-dev\\miniconda3\\envs\\llm_sft\\Lib\\site-packages\\torch\\_dynamo\\eval_frame.py:600: UserWarning: torch.utils.checkpoint: the use_reentrant parameter should be passed explicitly. In version 2.4 we will raise an exception if use_reentrant is not passed. use_reentrant=False is recommended, but if you need to preserve the current default behavior, you can pass use_reentrant=True. Refer to docs for more details on the differences between the two variants.\n",
      "  return fn(*args, **kwargs)\n",
      "C:\\Users\\vlad-dev\\miniconda3\\envs\\llm_sft\\Lib\\site-packages\\torch\\utils\\checkpoint.py:295: FutureWarning: `torch.cpu.amp.autocast(args...)` is deprecated. Please use `torch.amp.autocast('cpu', args...)` instead.\n",
      "  with torch.enable_grad(), device_autocast_ctx, torch.cpu.amp.autocast(**ctx.cpu_autocast_kwargs):  # type: ignore[attr-defined]\n"
     ]
    }
   ],
   "source": [
    "train_result = trainer.train()"
   ]
  },
  {
   "cell_type": "code",
   "execution_count": 19,
   "metadata": {
    "colab": {
     "base_uri": "https://localhost:8080/"
    },
    "id": "Is5bjb9lYiXu",
    "outputId": "bafd81ce-baf3-48b7-864b-f892dc1433e1"
   },
   "outputs": [
    {
     "data": {
      "text/plain": [
       "{'train_runtime': 3602.8125,\n",
       " 'train_samples_per_second': 0.701,\n",
       " 'train_steps_per_second': 0.175,\n",
       " 'total_flos': 3.076372627837747e+16,\n",
       " 'train_loss': 1.8476953112568983,\n",
       " 'epoch': 0.9996039603960396}"
      ]
     },
     "execution_count": 19,
     "metadata": {},
     "output_type": "execute_result"
    }
   ],
   "source": [
    "train_result.metrics"
   ]
  },
  {
   "cell_type": "markdown",
   "metadata": {},
   "source": [
    "### Loading model from checkpoint"
   ]
  },
  {
   "cell_type": "code",
   "execution_count": 3,
   "metadata": {
    "colab": {
     "base_uri": "https://localhost:8080/",
     "height": 49,
     "referenced_widgets": [
      "7a7631b5b6e843619736472408c71522",
      "11de77df192c4fe28fbe876561d6ddd5",
      "7e9af641a7264d05b667aa4e43d87483",
      "ea40c281d1c54ebf936062fba751c691",
      "58322d8234ce45869ef094a8cfff913c",
      "f552e978d0df4c4393b3b0777779a988",
      "0c1d3c83c9ce42b88daca152c98a1424",
      "4efe75d99ac8463fb1f65c829bbd4fc0",
      "66bee794ed6348a9bd586c8304f051de",
      "5561e9472dad4db69958a9138795d4ce",
      "f446464d943e40208174372a918af532"
     ]
    },
    "id": "7TmmpP2b9FSm",
    "outputId": "26020be3-c146-4fd7-d4f1-fa8f65d2c049"
   },
   "outputs": [
    {
     "name": "stderr",
     "output_type": "stream",
     "text": [
      "C:\\Users\\vlad-dev\\miniconda3\\envs\\llm_sft\\Lib\\site-packages\\tqdm\\auto.py:21: TqdmWarning: IProgress not found. Please update jupyter and ipywidgets. See https://ipywidgets.readthedocs.io/en/stable/user_install.html\n",
      "  from .autonotebook import tqdm as notebook_tqdm\n",
      "Loading checkpoint shards: 100%|█████████████████████████████████████████████████████████| 4/4 [00:05<00:00,  1.35s/it]\n"
     ]
    }
   ],
   "source": [
    "from transformers import AutoTokenizer, AutoModelForCausalLM, BitsAndBytesConfig\n",
    "import torch\n",
    "\n",
    "output_dir = \"./outputs/checkpoint-631\"\n",
    "tokenizer = AutoTokenizer.from_pretrained(output_dir, add_eos_token=True)\n",
    "nf4_config = BitsAndBytesConfig(\n",
    "   load_in_4bit=True,\n",
    "   bnb_4bit_quant_type=\"nf4\",\n",
    "   bnb_4bit_use_double_quant=True,\n",
    "   bnb_4bit_compute_dtype=torch.bfloat16 # torch.float16 if GPU doesn't support bfloat16\n",
    ")\n",
    "\n",
    "model = AutoModelForCausalLM.from_pretrained(output_dir,\n",
    "                                             quantization_config=nf4_config,\n",
    "                                             token=os.environ['HF_TOKEN'],\n",
    "                                             device_map=\"auto\")"
   ]
  },
  {
   "cell_type": "markdown",
   "metadata": {},
   "source": [
    "*Selecting random example from the dataset*"
   ]
  },
  {
   "cell_type": "code",
   "execution_count": 4,
   "metadata": {
    "colab": {
     "base_uri": "https://localhost:8080/",
     "height": 200
    },
    "id": "yiZxMrbi9Ffc",
    "outputId": "123c82d5-f15e-43f9-ea06-d37b238b2f4a"
   },
   "outputs": [],
   "source": [
    "sample = pd.read_csv('./data/annotations_dataset_validation.csv').fillna('').sample(n=1).to_dict(orient='records')[0]"
   ]
  },
  {
   "cell_type": "code",
   "execution_count": 5,
   "metadata": {
    "colab": {
     "base_uri": "https://localhost:8080/"
    },
    "id": "Uw9MzSrttY21",
    "outputId": "9013472d-a319-45fe-c297-94430f84b1b3"
   },
   "outputs": [
    {
     "name": "stdout",
     "output_type": "stream",
     "text": [
      "\n",
      "    You are given the poem \"Song of Beren and Lúthien\" by J. R. R. Tolkien.\n",
      "    <poem>\n",
      "    One moment stood she, and a spell\n",
      "His voice laid on her: Beren came,\n",
      "And doom fell on Tinúviel\n",
      "That in his arms lay glistening.\n",
      "As Beren looked into her eyes\n",
      "Within the shadows of her hair,\n",
      "The trembling starlight of the skies\n",
      "He saw there mirrored shimmering.\n",
      "Tinúviel the elven-fair,\n",
      "Immortal maiden elven-wise,\n",
      "About him cast her shadowy hair\n",
      "And arms like silver glimmering.\n",
      "    Long was the way that fate them bore,\n",
      "    O'er stony mountains cold and grey,\n",
      "Through halls of iron and darkling door,\n",
      "And woods of nightshade morrowless.\n",
      "    </poem>\n",
      "    Explain the meaning of the following lines: \"Long was the way that fate them bore,\"\n",
      "    \n"
     ]
    }
   ],
   "source": [
    "print(create_prompt(sample))"
   ]
  },
  {
   "cell_type": "markdown",
   "metadata": {},
   "source": [
    "### Sampling text from the model"
   ]
  },
  {
   "cell_type": "code",
   "execution_count": 7,
   "metadata": {
    "colab": {
     "base_uri": "https://localhost:8080/"
    },
    "id": "J1RwbfL34zpl",
    "outputId": "7a507cc1-d89c-47c5-df6d-4a210f3f9ae7"
   },
   "outputs": [
    {
     "name": "stderr",
     "output_type": "stream",
     "text": [
      "C:\\Users\\vlad-dev\\miniconda3\\envs\\llm_sft\\Lib\\site-packages\\transformers\\models\\llama\\modeling_llama.py:602: UserWarning: 1Torch was not compiled with flash attention. (Triggered internally at C:\\cb\\pytorch_1000000000000\\work\\aten\\src\\ATen\\native\\transformers\\cuda\\sdp_utils.cpp:555.)\n",
      "  attn_output = torch.nn.functional.scaled_dot_product_attention(\n"
     ]
    },
    {
     "name": "stdout",
     "output_type": "stream",
     "text": [
      "system\n",
      "\n",
      "Cutting Knowledge Date: December 2023\n",
      "Today Date: 26 Jul 2024\n",
      "\n",
      "You are an expert in poetry.user\n",
      "\n",
      "You are given the poem \"Song of Beren and Lúthien\" by J. R. R. Tolkien.\n",
      "    <poem>\n",
      "    One moment stood she, and a spell\n",
      "His voice laid on her: Beren came,\n",
      "And doom fell on Tinúviel\n",
      "That in his arms lay glistening.\n",
      "As Beren looked into her eyes\n",
      "Within the shadows of her hair,\n",
      "The trembling starlight of the skies\n",
      "He saw there mirrored shimmering.\n",
      "Tinúviel the elven-fair,\n",
      "Immortal maiden elven-wise,\n",
      "About him cast her shadowy hair\n",
      "And arms like silver glimmering.\n",
      "    Long was the way that fate them bore,\n",
      "    O'er stony mountains cold and grey,\n",
      "Through halls of iron and darkling door,\n",
      "And woods of nightshade morrowless.\n",
      "    </poem>\n",
      "    Explain the meaning of the following lines: \"Long was the way that fate them bore,\"assistant\n",
      "\n",
      "The fate of the two lovers is a long and difficult one, as we have already seen. Beren and Luthien are to be separated and are forced to travel far and wide. Their journey is a long one and is filled with danger and hardship. The fate that is laid upon them is one that they cannot escape. \n",
      " This is a reference to the story of Orpheus and Eurydice, which is another love story that is filled with hardship and tragedy. Orpheus was separated from his wife Eurydice and was forced to travel to the underworld to try and bring her back. He was\n"
     ]
    }
   ],
   "source": [
    "text = create_prompt(sample)\n",
    "messages = [\n",
    "        {\"role\": \"system\", \"content\": \"You are an expert in poetry.\"},\n",
    "        {\"role\": \"user\", \"content\": text},\n",
    "    ]\n",
    "\n",
    "inputs = tokenizer.apply_chat_template(messages, return_tensors=\"pt\", return_dict=True).to(\"cuda\")\n",
    "\n",
    "outputs = model.generate(**inputs,\n",
    "                         max_new_tokens=128,\n",
    "                         pad_token_id=tokenizer.eos_token_id)\n",
    "                         #cache_implementation=\"quantized\")\n",
    "                         #cache_config={\"backend\": \"quanto\", \"nbits\": 4})\n",
    "\n",
    "print(tokenizer.decode(outputs[0], skip_special_tokens=True))"
   ]
  },
  {
   "cell_type": "code",
   "execution_count": null,
   "metadata": {},
   "outputs": [],
   "source": []
  }
 ],
 "metadata": {
  "accelerator": "GPU",
  "colab": {
   "gpuType": "T4",
   "provenance": []
  },
  "kernelspec": {
   "display_name": "Python 3 (ipykernel)",
   "language": "python",
   "name": "python3"
  },
  "language_info": {
   "codemirror_mode": {
    "name": "ipython",
    "version": 3
   },
   "file_extension": ".py",
   "mimetype": "text/x-python",
   "name": "python",
   "nbconvert_exporter": "python",
   "pygments_lexer": "ipython3",
   "version": "3.12.4"
  },
  "widgets": {
   "application/vnd.jupyter.widget-state+json": {
    "0c1d3c83c9ce42b88daca152c98a1424": {
     "model_module": "@jupyter-widgets/controls",
     "model_module_version": "1.5.0",
     "model_name": "DescriptionStyleModel",
     "state": {
      "_model_module": "@jupyter-widgets/controls",
      "_model_module_version": "1.5.0",
      "_model_name": "DescriptionStyleModel",
      "_view_count": null,
      "_view_module": "@jupyter-widgets/base",
      "_view_module_version": "1.2.0",
      "_view_name": "StyleView",
      "description_width": ""
     }
    },
    "11de77df192c4fe28fbe876561d6ddd5": {
     "model_module": "@jupyter-widgets/controls",
     "model_module_version": "1.5.0",
     "model_name": "HTMLModel",
     "state": {
      "_dom_classes": [],
      "_model_module": "@jupyter-widgets/controls",
      "_model_module_version": "1.5.0",
      "_model_name": "HTMLModel",
      "_view_count": null,
      "_view_module": "@jupyter-widgets/controls",
      "_view_module_version": "1.5.0",
      "_view_name": "HTMLView",
      "description": "",
      "description_tooltip": null,
      "layout": "IPY_MODEL_f552e978d0df4c4393b3b0777779a988",
      "placeholder": "​",
      "style": "IPY_MODEL_0c1d3c83c9ce42b88daca152c98a1424",
      "value": "Loading checkpoint shards: 100%"
     }
    },
    "17a77e909b2345de82c7b7a48c51e16f": {
     "model_module": "@jupyter-widgets/base",
     "model_module_version": "1.2.0",
     "model_name": "LayoutModel",
     "state": {
      "_model_module": "@jupyter-widgets/base",
      "_model_module_version": "1.2.0",
      "_model_name": "LayoutModel",
      "_view_count": null,
      "_view_module": "@jupyter-widgets/base",
      "_view_module_version": "1.2.0",
      "_view_name": "LayoutView",
      "align_content": null,
      "align_items": null,
      "align_self": null,
      "border": null,
      "bottom": null,
      "display": null,
      "flex": null,
      "flex_flow": null,
      "grid_area": null,
      "grid_auto_columns": null,
      "grid_auto_flow": null,
      "grid_auto_rows": null,
      "grid_column": null,
      "grid_gap": null,
      "grid_row": null,
      "grid_template_areas": null,
      "grid_template_columns": null,
      "grid_template_rows": null,
      "height": null,
      "justify_content": null,
      "justify_items": null,
      "left": null,
      "margin": null,
      "max_height": null,
      "max_width": null,
      "min_height": null,
      "min_width": null,
      "object_fit": null,
      "object_position": null,
      "order": null,
      "overflow": null,
      "overflow_x": null,
      "overflow_y": null,
      "padding": null,
      "right": null,
      "top": null,
      "visibility": null,
      "width": null
     }
    },
    "208942e965574f739048523cddb07ce2": {
     "model_module": "@jupyter-widgets/controls",
     "model_module_version": "1.5.0",
     "model_name": "HTMLModel",
     "state": {
      "_dom_classes": [],
      "_model_module": "@jupyter-widgets/controls",
      "_model_module_version": "1.5.0",
      "_model_name": "HTMLModel",
      "_view_count": null,
      "_view_module": "@jupyter-widgets/controls",
      "_view_module_version": "1.5.0",
      "_view_name": "HTMLView",
      "description": "",
      "description_tooltip": null,
      "layout": "IPY_MODEL_b5f9199c997a473fa5bd3315dc9e72d2",
      "placeholder": "​",
      "style": "IPY_MODEL_86c39440ce5c456a886a812231fca6c2",
      "value": "Loading checkpoint shards: 100%"
     }
    },
    "4efe75d99ac8463fb1f65c829bbd4fc0": {
     "model_module": "@jupyter-widgets/base",
     "model_module_version": "1.2.0",
     "model_name": "LayoutModel",
     "state": {
      "_model_module": "@jupyter-widgets/base",
      "_model_module_version": "1.2.0",
      "_model_name": "LayoutModel",
      "_view_count": null,
      "_view_module": "@jupyter-widgets/base",
      "_view_module_version": "1.2.0",
      "_view_name": "LayoutView",
      "align_content": null,
      "align_items": null,
      "align_self": null,
      "border": null,
      "bottom": null,
      "display": null,
      "flex": null,
      "flex_flow": null,
      "grid_area": null,
      "grid_auto_columns": null,
      "grid_auto_flow": null,
      "grid_auto_rows": null,
      "grid_column": null,
      "grid_gap": null,
      "grid_row": null,
      "grid_template_areas": null,
      "grid_template_columns": null,
      "grid_template_rows": null,
      "height": null,
      "justify_content": null,
      "justify_items": null,
      "left": null,
      "margin": null,
      "max_height": null,
      "max_width": null,
      "min_height": null,
      "min_width": null,
      "object_fit": null,
      "object_position": null,
      "order": null,
      "overflow": null,
      "overflow_x": null,
      "overflow_y": null,
      "padding": null,
      "right": null,
      "top": null,
      "visibility": null,
      "width": null
     }
    },
    "4f02fe009e1f4dc499f88ac95d0e301d": {
     "model_module": "@jupyter-widgets/controls",
     "model_module_version": "1.5.0",
     "model_name": "FloatProgressModel",
     "state": {
      "_dom_classes": [],
      "_model_module": "@jupyter-widgets/controls",
      "_model_module_version": "1.5.0",
      "_model_name": "FloatProgressModel",
      "_view_count": null,
      "_view_module": "@jupyter-widgets/controls",
      "_view_module_version": "1.5.0",
      "_view_name": "ProgressView",
      "bar_style": "success",
      "description": "",
      "description_tooltip": null,
      "layout": "IPY_MODEL_c7979a54392041339e0210795f7bc932",
      "max": 4,
      "min": 0,
      "orientation": "horizontal",
      "style": "IPY_MODEL_5945f7aca7884edf8be668a528073088",
      "value": 4
     }
    },
    "5561e9472dad4db69958a9138795d4ce": {
     "model_module": "@jupyter-widgets/base",
     "model_module_version": "1.2.0",
     "model_name": "LayoutModel",
     "state": {
      "_model_module": "@jupyter-widgets/base",
      "_model_module_version": "1.2.0",
      "_model_name": "LayoutModel",
      "_view_count": null,
      "_view_module": "@jupyter-widgets/base",
      "_view_module_version": "1.2.0",
      "_view_name": "LayoutView",
      "align_content": null,
      "align_items": null,
      "align_self": null,
      "border": null,
      "bottom": null,
      "display": null,
      "flex": null,
      "flex_flow": null,
      "grid_area": null,
      "grid_auto_columns": null,
      "grid_auto_flow": null,
      "grid_auto_rows": null,
      "grid_column": null,
      "grid_gap": null,
      "grid_row": null,
      "grid_template_areas": null,
      "grid_template_columns": null,
      "grid_template_rows": null,
      "height": null,
      "justify_content": null,
      "justify_items": null,
      "left": null,
      "margin": null,
      "max_height": null,
      "max_width": null,
      "min_height": null,
      "min_width": null,
      "object_fit": null,
      "object_position": null,
      "order": null,
      "overflow": null,
      "overflow_x": null,
      "overflow_y": null,
      "padding": null,
      "right": null,
      "top": null,
      "visibility": null,
      "width": null
     }
    },
    "58322d8234ce45869ef094a8cfff913c": {
     "model_module": "@jupyter-widgets/base",
     "model_module_version": "1.2.0",
     "model_name": "LayoutModel",
     "state": {
      "_model_module": "@jupyter-widgets/base",
      "_model_module_version": "1.2.0",
      "_model_name": "LayoutModel",
      "_view_count": null,
      "_view_module": "@jupyter-widgets/base",
      "_view_module_version": "1.2.0",
      "_view_name": "LayoutView",
      "align_content": null,
      "align_items": null,
      "align_self": null,
      "border": null,
      "bottom": null,
      "display": null,
      "flex": null,
      "flex_flow": null,
      "grid_area": null,
      "grid_auto_columns": null,
      "grid_auto_flow": null,
      "grid_auto_rows": null,
      "grid_column": null,
      "grid_gap": null,
      "grid_row": null,
      "grid_template_areas": null,
      "grid_template_columns": null,
      "grid_template_rows": null,
      "height": null,
      "justify_content": null,
      "justify_items": null,
      "left": null,
      "margin": null,
      "max_height": null,
      "max_width": null,
      "min_height": null,
      "min_width": null,
      "object_fit": null,
      "object_position": null,
      "order": null,
      "overflow": null,
      "overflow_x": null,
      "overflow_y": null,
      "padding": null,
      "right": null,
      "top": null,
      "visibility": null,
      "width": null
     }
    },
    "5945f7aca7884edf8be668a528073088": {
     "model_module": "@jupyter-widgets/controls",
     "model_module_version": "1.5.0",
     "model_name": "ProgressStyleModel",
     "state": {
      "_model_module": "@jupyter-widgets/controls",
      "_model_module_version": "1.5.0",
      "_model_name": "ProgressStyleModel",
      "_view_count": null,
      "_view_module": "@jupyter-widgets/base",
      "_view_module_version": "1.2.0",
      "_view_name": "StyleView",
      "bar_color": null,
      "description_width": ""
     }
    },
    "66bee794ed6348a9bd586c8304f051de": {
     "model_module": "@jupyter-widgets/controls",
     "model_module_version": "1.5.0",
     "model_name": "ProgressStyleModel",
     "state": {
      "_model_module": "@jupyter-widgets/controls",
      "_model_module_version": "1.5.0",
      "_model_name": "ProgressStyleModel",
      "_view_count": null,
      "_view_module": "@jupyter-widgets/base",
      "_view_module_version": "1.2.0",
      "_view_name": "StyleView",
      "bar_color": null,
      "description_width": ""
     }
    },
    "713e782a635a47d9a31f0d46af91e3c8": {
     "model_module": "@jupyter-widgets/controls",
     "model_module_version": "1.5.0",
     "model_name": "HTMLModel",
     "state": {
      "_dom_classes": [],
      "_model_module": "@jupyter-widgets/controls",
      "_model_module_version": "1.5.0",
      "_model_name": "HTMLModel",
      "_view_count": null,
      "_view_module": "@jupyter-widgets/controls",
      "_view_module_version": "1.5.0",
      "_view_name": "HTMLView",
      "description": "",
      "description_tooltip": null,
      "layout": "IPY_MODEL_17a77e909b2345de82c7b7a48c51e16f",
      "placeholder": "​",
      "style": "IPY_MODEL_fa6c3bac407b46999d403defaec33997",
      "value": " 4/4 [01:33&lt;00:00, 19.36s/it]"
     }
    },
    "7a7631b5b6e843619736472408c71522": {
     "model_module": "@jupyter-widgets/controls",
     "model_module_version": "1.5.0",
     "model_name": "HBoxModel",
     "state": {
      "_dom_classes": [],
      "_model_module": "@jupyter-widgets/controls",
      "_model_module_version": "1.5.0",
      "_model_name": "HBoxModel",
      "_view_count": null,
      "_view_module": "@jupyter-widgets/controls",
      "_view_module_version": "1.5.0",
      "_view_name": "HBoxView",
      "box_style": "",
      "children": [
       "IPY_MODEL_11de77df192c4fe28fbe876561d6ddd5",
       "IPY_MODEL_7e9af641a7264d05b667aa4e43d87483",
       "IPY_MODEL_ea40c281d1c54ebf936062fba751c691"
      ],
      "layout": "IPY_MODEL_58322d8234ce45869ef094a8cfff913c"
     }
    },
    "7e9af641a7264d05b667aa4e43d87483": {
     "model_module": "@jupyter-widgets/controls",
     "model_module_version": "1.5.0",
     "model_name": "FloatProgressModel",
     "state": {
      "_dom_classes": [],
      "_model_module": "@jupyter-widgets/controls",
      "_model_module_version": "1.5.0",
      "_model_name": "FloatProgressModel",
      "_view_count": null,
      "_view_module": "@jupyter-widgets/controls",
      "_view_module_version": "1.5.0",
      "_view_name": "ProgressView",
      "bar_style": "success",
      "description": "",
      "description_tooltip": null,
      "layout": "IPY_MODEL_4efe75d99ac8463fb1f65c829bbd4fc0",
      "max": 4,
      "min": 0,
      "orientation": "horizontal",
      "style": "IPY_MODEL_66bee794ed6348a9bd586c8304f051de",
      "value": 4
     }
    },
    "86c39440ce5c456a886a812231fca6c2": {
     "model_module": "@jupyter-widgets/controls",
     "model_module_version": "1.5.0",
     "model_name": "DescriptionStyleModel",
     "state": {
      "_model_module": "@jupyter-widgets/controls",
      "_model_module_version": "1.5.0",
      "_model_name": "DescriptionStyleModel",
      "_view_count": null,
      "_view_module": "@jupyter-widgets/base",
      "_view_module_version": "1.2.0",
      "_view_name": "StyleView",
      "description_width": ""
     }
    },
    "b5f9199c997a473fa5bd3315dc9e72d2": {
     "model_module": "@jupyter-widgets/base",
     "model_module_version": "1.2.0",
     "model_name": "LayoutModel",
     "state": {
      "_model_module": "@jupyter-widgets/base",
      "_model_module_version": "1.2.0",
      "_model_name": "LayoutModel",
      "_view_count": null,
      "_view_module": "@jupyter-widgets/base",
      "_view_module_version": "1.2.0",
      "_view_name": "LayoutView",
      "align_content": null,
      "align_items": null,
      "align_self": null,
      "border": null,
      "bottom": null,
      "display": null,
      "flex": null,
      "flex_flow": null,
      "grid_area": null,
      "grid_auto_columns": null,
      "grid_auto_flow": null,
      "grid_auto_rows": null,
      "grid_column": null,
      "grid_gap": null,
      "grid_row": null,
      "grid_template_areas": null,
      "grid_template_columns": null,
      "grid_template_rows": null,
      "height": null,
      "justify_content": null,
      "justify_items": null,
      "left": null,
      "margin": null,
      "max_height": null,
      "max_width": null,
      "min_height": null,
      "min_width": null,
      "object_fit": null,
      "object_position": null,
      "order": null,
      "overflow": null,
      "overflow_x": null,
      "overflow_y": null,
      "padding": null,
      "right": null,
      "top": null,
      "visibility": null,
      "width": null
     }
    },
    "c7979a54392041339e0210795f7bc932": {
     "model_module": "@jupyter-widgets/base",
     "model_module_version": "1.2.0",
     "model_name": "LayoutModel",
     "state": {
      "_model_module": "@jupyter-widgets/base",
      "_model_module_version": "1.2.0",
      "_model_name": "LayoutModel",
      "_view_count": null,
      "_view_module": "@jupyter-widgets/base",
      "_view_module_version": "1.2.0",
      "_view_name": "LayoutView",
      "align_content": null,
      "align_items": null,
      "align_self": null,
      "border": null,
      "bottom": null,
      "display": null,
      "flex": null,
      "flex_flow": null,
      "grid_area": null,
      "grid_auto_columns": null,
      "grid_auto_flow": null,
      "grid_auto_rows": null,
      "grid_column": null,
      "grid_gap": null,
      "grid_row": null,
      "grid_template_areas": null,
      "grid_template_columns": null,
      "grid_template_rows": null,
      "height": null,
      "justify_content": null,
      "justify_items": null,
      "left": null,
      "margin": null,
      "max_height": null,
      "max_width": null,
      "min_height": null,
      "min_width": null,
      "object_fit": null,
      "object_position": null,
      "order": null,
      "overflow": null,
      "overflow_x": null,
      "overflow_y": null,
      "padding": null,
      "right": null,
      "top": null,
      "visibility": null,
      "width": null
     }
    },
    "e57fd09eafcf40dc955209a8de242d47": {
     "model_module": "@jupyter-widgets/controls",
     "model_module_version": "1.5.0",
     "model_name": "HBoxModel",
     "state": {
      "_dom_classes": [],
      "_model_module": "@jupyter-widgets/controls",
      "_model_module_version": "1.5.0",
      "_model_name": "HBoxModel",
      "_view_count": null,
      "_view_module": "@jupyter-widgets/controls",
      "_view_module_version": "1.5.0",
      "_view_name": "HBoxView",
      "box_style": "",
      "children": [
       "IPY_MODEL_208942e965574f739048523cddb07ce2",
       "IPY_MODEL_4f02fe009e1f4dc499f88ac95d0e301d",
       "IPY_MODEL_713e782a635a47d9a31f0d46af91e3c8"
      ],
      "layout": "IPY_MODEL_e9e015fad0344d8abf09ca3378698d19"
     }
    },
    "e9e015fad0344d8abf09ca3378698d19": {
     "model_module": "@jupyter-widgets/base",
     "model_module_version": "1.2.0",
     "model_name": "LayoutModel",
     "state": {
      "_model_module": "@jupyter-widgets/base",
      "_model_module_version": "1.2.0",
      "_model_name": "LayoutModel",
      "_view_count": null,
      "_view_module": "@jupyter-widgets/base",
      "_view_module_version": "1.2.0",
      "_view_name": "LayoutView",
      "align_content": null,
      "align_items": null,
      "align_self": null,
      "border": null,
      "bottom": null,
      "display": null,
      "flex": null,
      "flex_flow": null,
      "grid_area": null,
      "grid_auto_columns": null,
      "grid_auto_flow": null,
      "grid_auto_rows": null,
      "grid_column": null,
      "grid_gap": null,
      "grid_row": null,
      "grid_template_areas": null,
      "grid_template_columns": null,
      "grid_template_rows": null,
      "height": null,
      "justify_content": null,
      "justify_items": null,
      "left": null,
      "margin": null,
      "max_height": null,
      "max_width": null,
      "min_height": null,
      "min_width": null,
      "object_fit": null,
      "object_position": null,
      "order": null,
      "overflow": null,
      "overflow_x": null,
      "overflow_y": null,
      "padding": null,
      "right": null,
      "top": null,
      "visibility": null,
      "width": null
     }
    },
    "ea40c281d1c54ebf936062fba751c691": {
     "model_module": "@jupyter-widgets/controls",
     "model_module_version": "1.5.0",
     "model_name": "HTMLModel",
     "state": {
      "_dom_classes": [],
      "_model_module": "@jupyter-widgets/controls",
      "_model_module_version": "1.5.0",
      "_model_name": "HTMLModel",
      "_view_count": null,
      "_view_module": "@jupyter-widgets/controls",
      "_view_module_version": "1.5.0",
      "_view_name": "HTMLView",
      "description": "",
      "description_tooltip": null,
      "layout": "IPY_MODEL_5561e9472dad4db69958a9138795d4ce",
      "placeholder": "​",
      "style": "IPY_MODEL_f446464d943e40208174372a918af532",
      "value": " 4/4 [01:21&lt;00:00, 17.63s/it]"
     }
    },
    "f446464d943e40208174372a918af532": {
     "model_module": "@jupyter-widgets/controls",
     "model_module_version": "1.5.0",
     "model_name": "DescriptionStyleModel",
     "state": {
      "_model_module": "@jupyter-widgets/controls",
      "_model_module_version": "1.5.0",
      "_model_name": "DescriptionStyleModel",
      "_view_count": null,
      "_view_module": "@jupyter-widgets/base",
      "_view_module_version": "1.2.0",
      "_view_name": "StyleView",
      "description_width": ""
     }
    },
    "f552e978d0df4c4393b3b0777779a988": {
     "model_module": "@jupyter-widgets/base",
     "model_module_version": "1.2.0",
     "model_name": "LayoutModel",
     "state": {
      "_model_module": "@jupyter-widgets/base",
      "_model_module_version": "1.2.0",
      "_model_name": "LayoutModel",
      "_view_count": null,
      "_view_module": "@jupyter-widgets/base",
      "_view_module_version": "1.2.0",
      "_view_name": "LayoutView",
      "align_content": null,
      "align_items": null,
      "align_self": null,
      "border": null,
      "bottom": null,
      "display": null,
      "flex": null,
      "flex_flow": null,
      "grid_area": null,
      "grid_auto_columns": null,
      "grid_auto_flow": null,
      "grid_auto_rows": null,
      "grid_column": null,
      "grid_gap": null,
      "grid_row": null,
      "grid_template_areas": null,
      "grid_template_columns": null,
      "grid_template_rows": null,
      "height": null,
      "justify_content": null,
      "justify_items": null,
      "left": null,
      "margin": null,
      "max_height": null,
      "max_width": null,
      "min_height": null,
      "min_width": null,
      "object_fit": null,
      "object_position": null,
      "order": null,
      "overflow": null,
      "overflow_x": null,
      "overflow_y": null,
      "padding": null,
      "right": null,
      "top": null,
      "visibility": null,
      "width": null
     }
    },
    "fa6c3bac407b46999d403defaec33997": {
     "model_module": "@jupyter-widgets/controls",
     "model_module_version": "1.5.0",
     "model_name": "DescriptionStyleModel",
     "state": {
      "_model_module": "@jupyter-widgets/controls",
      "_model_module_version": "1.5.0",
      "_model_name": "DescriptionStyleModel",
      "_view_count": null,
      "_view_module": "@jupyter-widgets/base",
      "_view_module_version": "1.2.0",
      "_view_name": "StyleView",
      "description_width": ""
     }
    }
   }
  }
 },
 "nbformat": 4,
 "nbformat_minor": 4
}
