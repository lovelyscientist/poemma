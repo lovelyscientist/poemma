{
 "cells": [
  {
   "cell_type": "code",
   "execution_count": 7,
   "id": "14c54030",
   "metadata": {},
   "outputs": [],
   "source": [
    "import os\n",
    "import random\n",
    "import numpy as np\n",
    "import copy\n",
    "import pandas as pd\n",
    "\n",
    "os.environ[\"HF_TOKEN\"] = 'your token'"
   ]
  },
  {
   "cell_type": "code",
   "execution_count": 2,
   "id": "5c541e73",
   "metadata": {},
   "outputs": [],
   "source": [
    "%pip install datasets transformers"
   ]
  },
  {
   "cell_type": "markdown",
   "id": "a936cd19-eb58-4569-b83c-24450709aa3f",
   "metadata": {},
   "source": [
    "### Create & verify user prompt from input data"
   ]
  },
  {
   "cell_type": "code",
   "execution_count": 2,
   "id": "8b1d2874",
   "metadata": {},
   "outputs": [],
   "source": [
    "def create_prompt(inputs: dict) -> str:\n",
    "    \"\"\"\n",
    "    Function that creates prompt for poetry explanation.\n",
    "    \"\"\"\n",
    "    return \"\"\"\n",
    "    You are given the poem \"{title}\" by \"{poet}\".\n",
    "    <poem>\n",
    "    {content_before}\n",
    "    {referent}\n",
    "    {context_after}\n",
    "    </poem>\n",
    "    Explain the meaning of the following lines: \"{referent}\"\n",
    "    \"\"\".format(\n",
    "        title=inputs['poem_title'],\n",
    "        poet=inputs['poet'],\n",
    "        content_before=inputs['content_before'],\n",
    "        context_after=inputs['context_after'],\n",
    "        referent=inputs['referent']\n",
    "    )"
   ]
  },
  {
   "cell_type": "code",
   "execution_count": 3,
   "id": "8ade6450",
   "metadata": {},
   "outputs": [],
   "source": [
    "example = {\n",
    "    'content_before': \"The battle rent a cobweb diamond-strung\\nAnd cut a flower beside a ground bird's nest\\nBefore it stained a single human breast.\\nThe stricken flower bent double and so hung.\\nAnd still the bird revisited her young.\\nA butterfly its fall had dispossessed\\nA moment sought in air his flower of rest,\\nThen lightly stooped to it and fluttering clung.\\nOn the bare upland pasture there had spread\\nO'ernight 'twixt mullein stalks a wheel of thread\\nAnd straining cables wet with silver dew.\",\n",
    "    'referent': 'A sudden passing bullet shook it dry.',\n",
    "    'context_after': 'The indwelling spider ran to greet the fly,\\nBut finding nothing, sullenly withdrew.',\n",
    "    'annotation': 'The serenity is, as the reader no doubt anticipates, broken by the shot described in this snappy line. The dryness may represent the loss of a source of life that invigorates the natural — and human — worlds.',\n",
    "    'poet': 'Robert Frost',\n",
    "    'poem_title': 'Range-finding'\n",
    "}"
   ]
  },
  {
   "cell_type": "code",
   "execution_count": 4,
   "id": "1d79b32c-79e9-42e1-9dbb-b5be9da635d5",
   "metadata": {},
   "outputs": [
    {
     "data": {
      "text/plain": [
       "'\\n    You are given the poem \"Range-finding\" by \"Robert Frost\".\\n    <poem>\\n    The battle rent a cobweb diamond-strung\\nAnd cut a flower beside a ground bird\\'s nest\\nBefore it stained a single human breast.\\nThe stricken flower bent double and so hung.\\nAnd still the bird revisited her young.\\nA butterfly its fall had dispossessed\\nA moment sought in air his flower of rest,\\nThen lightly stooped to it and fluttering clung.\\nOn the bare upland pasture there had spread\\nO\\'ernight \\'twixt mullein stalks a wheel of thread\\nAnd straining cables wet with silver dew.\\n    A sudden passing bullet shook it dry.\\n    The indwelling spider ran to greet the fly,\\nBut finding nothing, sullenly withdrew.\\n    </poem>\\n    Explain the meaning of the following lines: \"A sudden passing bullet shook it dry.\"\\n    '"
      ]
     },
     "execution_count": 4,
     "metadata": {},
     "output_type": "execute_result"
    }
   ],
   "source": [
    "create_prompt(example)"
   ]
  },
  {
   "cell_type": "markdown",
   "id": "d1c92d76",
   "metadata": {},
   "source": [
    "### Split dataset into train/validation/test without intersections between poets"
   ]
  },
  {
   "cell_type": "code",
   "execution_count": 159,
   "id": "4191f388",
   "metadata": {},
   "outputs": [],
   "source": [
    "def split_by_author(df, split_ratio=[0.7, 0.1]) -> list[pd.DataFrame]:\n",
    "    unique_poets_count = dict(df['poet'].value_counts())\n",
    "    \"\"\"Function that splits dataset into train/validation/test with no intersection between authors\"\"\"\n",
    "    \n",
    "    # set target counts for each subset\n",
    "    total_count = len(df)\n",
    "    count_deviation = total_count*0.01\n",
    "    train_count_target = int(total_count * split_ratio[0])\n",
    "    validation_count_target = int(total_count * split_ratio[1])\n",
    "    test_count_target = total_count - train_count_target - validation_count_target\n",
    "    train_poets, train_count = [], 0\n",
    "    validation_poets, validation_count = [], 0\n",
    "    \n",
    "    while abs(train_count-train_count_target) > count_deviation:\n",
    "        print('Selecting train dataset')\n",
    "        # define start values\n",
    "        train_poets, train_count = [], 0\n",
    "        unique_poets_list = df['poet'].value_counts().index.values.copy()\n",
    "\n",
    "        while train_count < train_count_target:\n",
    "            random_index = random.randint(0, len(unique_poets_list)-1)\n",
    "            train_poets.append(unique_poets_list[random_index])\n",
    "            train_count += unique_poets_count[unique_poets_list[random_index]]\n",
    "            unique_poets_list = np.delete(unique_poets_list, random_index)\n",
    "           \n",
    "    \n",
    "    while abs(validation_count-validation_count_target) > count_deviation:\n",
    "        print('Selecting validation dataset')\n",
    "        validation_poets, validation_count = [], 0\n",
    "        val_unique_poets_list = unique_poets_list.copy()\n",
    "        \n",
    "        while validation_count < validation_count_target:\n",
    "            random_index = random.randint(0, len(val_unique_poets_list)-1)\n",
    "            validation_poets.append(val_unique_poets_list[random_index])\n",
    "            validation_count += unique_poets_count[val_unique_poets_list[random_index]]\n",
    "            val_unique_poets_list = np.delete(val_unique_poets_list, random_index)\n",
    "    \n",
    "    # all left poets are for testing\n",
    "    test_poets = val_unique_poets_list\n",
    "    \n",
    "    print(train_count, len(df[df['poet'].isin(train_poets)]))\n",
    "    print(set(train_poets).intersection(validation_poets))\n",
    "    print(f\"Allowed deviation = {count_deviation}\")\n",
    "    print(f\"Train count (target={train_count_target}) = {len(df[df['poet'].isin(train_poets)])}\")\n",
    "    print(f\"Validation count (target={validation_count_target}) = {len(df[df['poet'].isin(validation_poets)])}\")\n",
    "    print(f\"Test count (target={test_count_target}) = {len(df[df['poet'].isin(test_poets)])}\")\n",
    "        \n",
    "    return df[df['poet'].isin(train_poets)], df[df['poet'].isin(validation_poets)], df[df['poet'].isin(test_poets)]"
   ]
  },
  {
   "cell_type": "code",
   "execution_count": 158,
   "id": "62071ae8",
   "metadata": {},
   "outputs": [
    {
     "name": "stdout",
     "output_type": "stream",
     "text": [
      "Selecting train dataset\n",
      "Selecting validation dataset\n",
      "Selecting validation dataset\n",
      "2576 2576\n",
      "set()\n",
      "Allowed deviation = 36.29\n",
      "Train count (target=2540) = 2576\n",
      "Validation count (target=362) = 366\n",
      "Test count (target=727) = 687\n"
     ]
    }
   ],
   "source": [
    "train_df, validation_df, test_df = split_by_author(df)"
   ]
  },
  {
   "cell_type": "code",
   "execution_count": 160,
   "id": "68a3a7d5",
   "metadata": {},
   "outputs": [],
   "source": [
    "train_df.to_csv('./data/annotations_dataset_train.csv', index=False)\n",
    "validation_df.to_csv('./data/annotations_dataset_validation.csv', index=False)\n",
    "test_df.to_csv('./data/annotations_dataset_test.csv', index=False)"
   ]
  },
  {
   "cell_type": "markdown",
   "id": "a8922b9c",
   "metadata": {},
   "source": [
    "### Create HF dataset from train/test split"
   ]
  },
  {
   "cell_type": "code",
   "execution_count": 9,
   "id": "df4d954b",
   "metadata": {},
   "outputs": [],
   "source": [
    "data_files = {\"train\": [\"./data/annotations_dataset_train.csv\"],\n",
    "             \"test\": [\"./data/annotations_dataset_test.csv\"],\n",
    "             \"validation\": [\"./data/annotations_dataset_validation.csv\"]}"
   ]
  },
  {
   "cell_type": "code",
   "execution_count": 10,
   "id": "3152861e-0b88-492c-9e01-d3920b8689a1",
   "metadata": {},
   "outputs": [
    {
     "data": {
      "application/vnd.jupyter.widget-view+json": {
       "model_id": "5824749275654f0ba80598a8f90040d2",
       "version_major": 2,
       "version_minor": 0
      },
      "text/plain": [
       "Generating train split: 0 examples [00:00, ? examples/s]"
      ]
     },
     "metadata": {},
     "output_type": "display_data"
    },
    {
     "data": {
      "application/vnd.jupyter.widget-view+json": {
       "model_id": "9a49ca497bfa4a5cb5b1f5d4804665e5",
       "version_major": 2,
       "version_minor": 0
      },
      "text/plain": [
       "Generating test split: 0 examples [00:00, ? examples/s]"
      ]
     },
     "metadata": {},
     "output_type": "display_data"
    },
    {
     "data": {
      "application/vnd.jupyter.widget-view+json": {
       "model_id": "52779a46225f4f71ae86c341a28cde6e",
       "version_major": 2,
       "version_minor": 0
      },
      "text/plain": [
       "Generating validation split: 0 examples [00:00, ? examples/s]"
      ]
     },
     "metadata": {},
     "output_type": "display_data"
    },
    {
     "data": {
      "application/vnd.jupyter.widget-view+json": {
       "model_id": "73fb916211394dffbea5f2b437001daa",
       "version_major": 2,
       "version_minor": 0
      },
      "text/plain": [
       "Uploading the dataset shards:   0%|          | 0/1 [00:00<?, ?it/s]"
      ]
     },
     "metadata": {},
     "output_type": "display_data"
    },
    {
     "data": {
      "application/vnd.jupyter.widget-view+json": {
       "model_id": "0bdac5d6258541799ab3bbf7ec0bbfd3",
       "version_major": 2,
       "version_minor": 0
      },
      "text/plain": [
       "Creating parquet from Arrow format:   0%|          | 0/3 [00:00<?, ?ba/s]"
      ]
     },
     "metadata": {},
     "output_type": "display_data"
    },
    {
     "data": {
      "application/vnd.jupyter.widget-view+json": {
       "model_id": "7059130ba9604551b08bcebb73fdf899",
       "version_major": 2,
       "version_minor": 0
      },
      "text/plain": [
       "Uploading the dataset shards:   0%|          | 0/1 [00:00<?, ?it/s]"
      ]
     },
     "metadata": {},
     "output_type": "display_data"
    },
    {
     "data": {
      "application/vnd.jupyter.widget-view+json": {
       "model_id": "f5b27842f7584a45a1526efad3e4277e",
       "version_major": 2,
       "version_minor": 0
      },
      "text/plain": [
       "Creating parquet from Arrow format:   0%|          | 0/1 [00:00<?, ?ba/s]"
      ]
     },
     "metadata": {},
     "output_type": "display_data"
    },
    {
     "data": {
      "application/vnd.jupyter.widget-view+json": {
       "model_id": "85f34b7e0fd94a8696cebf2b0336804f",
       "version_major": 2,
       "version_minor": 0
      },
      "text/plain": [
       "Uploading the dataset shards:   0%|          | 0/1 [00:00<?, ?it/s]"
      ]
     },
     "metadata": {},
     "output_type": "display_data"
    },
    {
     "data": {
      "application/vnd.jupyter.widget-view+json": {
       "model_id": "e0f0351818cd42248bbadb34010e50b1",
       "version_major": 2,
       "version_minor": 0
      },
      "text/plain": [
       "Creating parquet from Arrow format:   0%|          | 0/1 [00:00<?, ?ba/s]"
      ]
     },
     "metadata": {},
     "output_type": "display_data"
    },
    {
     "data": {
      "application/vnd.jupyter.widget-view+json": {
       "model_id": "c73726eb38b641cb844f6914cc3d5522",
       "version_major": 2,
       "version_minor": 0
      },
      "text/plain": [
       "README.md:   0%|          | 0.00/485 [00:00<?, ?B/s]"
      ]
     },
     "metadata": {},
     "output_type": "display_data"
    },
    {
     "data": {
      "text/plain": [
       "CommitInfo(commit_url='https://huggingface.co/datasets/prettyvampire/genius_poems_annotations/commit/8e85f16d583a25634b049386c0819ae69d1a7ecb', commit_message='Upload dataset', commit_description='', oid='8e85f16d583a25634b049386c0819ae69d1a7ecb', pr_url=None, repo_url=RepoUrl('https://huggingface.co/datasets/prettyvampire/genius_poems_annotations', endpoint='https://huggingface.co', repo_type='dataset', repo_id='prettyvampire/genius_poems_annotations'), pr_revision=None, pr_num=None)"
      ]
     },
     "execution_count": 10,
     "metadata": {},
     "output_type": "execute_result"
    }
   ],
   "source": [
    "from datasets import load_dataset\n",
    "dataset = load_dataset(\"csv\", data_files=data_files)\n",
    "dataset.push_to_hub(\"prettyvampire/genius_poems_annotations\")"
   ]
  },
  {
   "cell_type": "code",
   "execution_count": 7,
   "id": "2cd567da",
   "metadata": {},
   "outputs": [
    {
     "data": {
      "text/plain": [
       "(2576, 687)"
      ]
     },
     "execution_count": 7,
     "metadata": {},
     "output_type": "execute_result"
    }
   ],
   "source": [
    "len(dataset['train']), len(dataset['test'])"
   ]
  },
  {
   "cell_type": "markdown",
   "id": "842e96dc",
   "metadata": {},
   "source": [
    "### Try gemma 2-2b-it on one sample"
   ]
  },
  {
   "cell_type": "code",
   "execution_count": 10,
   "id": "0e3dc109",
   "metadata": {},
   "outputs": [
    {
     "name": "stderr",
     "output_type": "stream",
     "text": [
      "Loading checkpoint shards: 100%|█████████████████████████████████████████████████████████| 2/2 [00:01<00:00,  1.03it/s]\n"
     ]
    }
   ],
   "source": [
    "import torch\n",
    "from transformers import AutoTokenizer, AutoModelForCausalLM, BitsAndBytesConfig, GemmaTokenizer\n",
    "\n",
    "model_id = 'google/gemma-2-2b-it'\n",
    "tokenizer = AutoTokenizer.from_pretrained(model_id, token=os.environ['HF_TOKEN'], add_eos_token=True)\n",
    "model = AutoModelForCausalLM.from_pretrained(model_id,\n",
    "                                             device_map='cuda',\n",
    "                                             token=os.environ['HF_TOKEN'],\n",
    "                                             torch_dtype=torch.float16,\n",
    "                                             use_cache=False)"
   ]
  },
  {
   "cell_type": "code",
   "execution_count": 11,
   "id": "0e35fb77",
   "metadata": {},
   "outputs": [],
   "source": [
    "text = '\\n    You are given the poem \"Lenox Avenue: Midnight\" by \"Langston Hughes\".\\n    <poem>\\n    \\n    The rhythm of life\\nIs a jazz rhythm,\\n    Honey.\\nThe gods are laughing at us.\\nThe broken heart of love,\\n    </poem>\\n    Explain the meaning of the following lines: \"The rhythm of life\\nIs a jazz rhythm,\"\\n    '"
   ]
  },
  {
   "cell_type": "code",
   "execution_count": 12,
   "id": "3f8926a1-db83-47f5-97ea-46de55e2c991",
   "metadata": {},
   "outputs": [
    {
     "data": {
      "text/plain": [
       "\"{{ bos_token }}{% if messages[0]['role'] == 'system' %}{{ raise_exception('System role not supported') }}{% endif %}{% for message in messages %}{% if (message['role'] == 'user') != (loop.index0 % 2 == 0) %}{{ raise_exception('Conversation roles must alternate user/assistant/user/assistant/...') }}{% endif %}{% if (message['role'] == 'assistant') %}{% set role = 'model' %}{% else %}{% set role = message['role'] %}{% endif %}{{ '<start_of_turn>' + role + '\\n' + message['content'] | trim + '<end_of_turn>\\n' }}{% endfor %}{% if add_generation_prompt %}{{'<start_of_turn>model\\n'}}{% endif %}\""
      ]
     },
     "execution_count": 12,
     "metadata": {},
     "output_type": "execute_result"
    }
   ],
   "source": [
    "tokenizer.chat_template"
   ]
  },
  {
   "cell_type": "code",
   "execution_count": 13,
   "id": "eb4cf8b2",
   "metadata": {},
   "outputs": [
    {
     "name": "stdout",
     "output_type": "stream",
     "text": [
      "user\n",
      "You are given the poem \"Lenox Avenue: Midnight\" by \"Langston Hughes\".\n",
      "    <poem>\n",
      "    \n",
      "    The rhythm of life\n",
      "Is a jazz rhythm,\n",
      "    Honey.\n",
      "The gods are laughing at us.\n",
      "The broken heart of love,\n",
      "    </poem>\n",
      "    Explain the meaning of the following lines: \"The rhythm of life\n",
      "Is a jazz rhythm,\"\n",
      "* **What is the meaning of the line?**\n",
      "* **How does this line relate to the overall theme of the poem?**\n",
      "\n",
      "Here's a breakdown of the poem:\n",
      "\n",
      "* **\"The rhythm of life is a jazz rhythm, honey.\"** This line sets the tone for the poem, suggesting a sense of improvisation, spontaneity, and a certain unpredictability in life.\n",
      "* **\"The gods are laughing at us.\"** This line suggests a sense of irony and perhaps even despair.\n",
      "* **\"The broken heart of love.\"** This line suggests a sense of loss and pain.\n",
      "\n",
      "\n",
      "Let me know if you'd like to explore any other lines from the poem! \n",
      "\n"
     ]
    }
   ],
   "source": [
    "device = \"cuda\"\n",
    "\n",
    "messages = [\n",
    "    {\"role\": \"user\", \"content\": text},\n",
    "]\n",
    "inputs = tokenizer.apply_chat_template(messages, return_tensors=\"pt\", return_dict=True).to(\"cuda\")\n",
    "\n",
    "outputs = model.generate(**inputs, max_new_tokens=150, pad_token_id=tokenizer.eos_token_id)\n",
    "print(tokenizer.decode(outputs[0], skip_special_tokens=True))"
   ]
  }
 ],
 "metadata": {
  "kernelspec": {
   "display_name": "Python 3 (ipykernel)",
   "language": "python",
   "name": "python3"
  },
  "language_info": {
   "codemirror_mode": {
    "name": "ipython",
    "version": 3
   },
   "file_extension": ".py",
   "mimetype": "text/x-python",
   "name": "python",
   "nbconvert_exporter": "python",
   "pygments_lexer": "ipython3",
   "version": "3.12.4"
  }
 },
 "nbformat": 4,
 "nbformat_minor": 5
}
